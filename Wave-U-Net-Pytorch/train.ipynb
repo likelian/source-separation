{
  "cells": [
    {
      "cell_type": "markdown",
      "metadata": {
        "id": "AsPmTeR219Hb"
      },
      "source": [
        "[![Open In Colab](https://colab.research.google.com/assets/colab-badge.svg)](https://colab.research.google.com/github/likelian/source-separation/blob/main/Wave-U-Net-Pytorch/train.ipynb)"
      ]
    },
    {
      "cell_type": "code",
      "execution_count": null,
      "metadata": {
        "id": "4jBANF_h19Hf"
      },
      "outputs": [],
      "source": []
    }
  ],
  "metadata": {
    "colab": {
      "name": "train.ipynb",
      "provenance": []
    },
    "language_info": {
      "name": "python"
    },
    "orig_nbformat": 4
  },
  "nbformat": 4,
  "nbformat_minor": 0
}
