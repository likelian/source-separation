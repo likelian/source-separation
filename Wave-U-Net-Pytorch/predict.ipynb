{
  "cells": [
    {
      "cell_type": "markdown",
      "metadata": {
        "id": "5SBQ9dnjQlij"
      },
      "source": [
        "[![Open In Colab](https://colab.research.google.com/assets/colab-badge.svg)](https://colab.research.google.com/github/likelian/source-separation/blob/main/Wave-U-Net-Pytorch/predict.ipynb)"
      ]
    },
    {
      "cell_type": "code",
      "source": [
        "!python -V\n",
        "!nvcc -V"
      ],
      "metadata": {
        "id": "2kmf5_20QsGd"
      },
      "execution_count": null,
      "outputs": []
    },
    {
      "cell_type": "code",
      "source": [
        "!git clone https://github.com/likelian/source-separation.git\n",
        "\n",
        "import os\n",
        "os.chdir(\"source-separation/Wave-U-Net-Pytorch\")"
      ],
      "metadata": {
        "id": "hpE5Jh-aThfs"
      },
      "execution_count": null,
      "outputs": []
    },
    {
      "cell_type": "code",
      "source": [
        "# !git pull\n",
        "!python -m pip install -r requirements.txt"
      ],
      "metadata": {
        "id": "CUFleUVZRKqs"
      },
      "execution_count": null,
      "outputs": []
    },
    {
      "cell_type": "code",
      "source": [
        "from google.colab import drive\n",
        "drive.mount('/content/drive')"
      ],
      "metadata": {
        "id": "eey6FtUZSr67",
        "outputId": "f2b85b13-594b-445c-c06c-11d6a0eff8b9",
        "colab": {
          "base_uri": "https://localhost:8080/"
        }
      },
      "execution_count": 12,
      "outputs": [
        {
          "output_type": "stream",
          "name": "stdout",
          "text": [
            "Mounted at /content/drive\n"
          ]
        }
      ]
    },
    {
      "cell_type": "code",
      "execution_count": 8,
      "metadata": {
        "id": "jU6Yr7sVQlin"
      },
      "outputs": [],
      "source": [
        "import argparse\n",
        "import os\n",
        "\n",
        "import data.utils\n",
        "import model.utils as model_utils\n",
        "\n",
        "from test import predict_song\n",
        "from model.waveunet import Waveunet"
      ]
    },
    {
      "cell_type": "code",
      "execution_count": 9,
      "metadata": {
        "id": "Ptv4BgBHQlin"
      },
      "outputs": [],
      "source": [
        "class Args:\n",
        "    def __init__(self):\n",
        "        self.instruments = [\"bass\", \"drums\", \"other\", \"vocals\"]\n",
        "        self.cuda = False\n",
        "        self.features = 32\n",
        "        self.load_model = \"checkpoints/waveunet/model\"\n",
        "        self.batch_size = 4\n",
        "        self.levels = 6\n",
        "        self.depth = 1\n",
        "        self.sr = 44100\n",
        "        self.channels = 2\n",
        "        self.kernel_size = 5\n",
        "        self.output_size = 2.0\n",
        "        self.strides = 4\n",
        "        self.conv_type = \"gn\"\n",
        "        self.res = \"fixed\"\n",
        "        self.separate = 1\n",
        "        self.feature_growth = \"double\"\n",
        "        self.input = os.path.join(\"audio_examples\", \"Cristina Vane - So Easy\", \"mix.mp3\")\n",
        "        self.output = None\n",
        "        \n",
        "    def set_cuda(self, cuda_cond):\n",
        "        self.cuda = cuda_cond\n",
        "    \n",
        "    def set_model_path(self, model_path):\n",
        "        self.load_model = model_path\n",
        "    \n",
        "    def set_input_path(self, input_path):\n",
        "        self.input = input_path\n",
        "\n",
        "    def set_output_path(self, output_path):\n",
        "        self.output = output_path\n"
      ]
    },
    {
      "cell_type": "code",
      "execution_count": 10,
      "metadata": {
        "id": "6Y7dyRTtQlio"
      },
      "outputs": [],
      "source": [
        "def main(args):\n",
        "    # MODEL\n",
        "    num_features = [args.features*i for i in range(1, args.levels+1)] if args.feature_growth == \"add\" else \\\n",
        "                   [args.features*2**i for i in range(0, args.levels)]\n",
        "    target_outputs = int(args.output_size * args.sr)\n",
        "    model = Waveunet(args.channels, num_features, args.channels, args.instruments, kernel_size=args.kernel_size,\n",
        "                     target_output_size=target_outputs, depth=args.depth, strides=args.strides,\n",
        "                     conv_type=args.conv_type, res=args.res, separate=args.separate)\n",
        "\n",
        "    if args.cuda:\n",
        "        model = model_utils.DataParallel(model)\n",
        "        print(\"move model to gpu\")\n",
        "        model.cuda()\n",
        "\n",
        "    print(\"Loading model from checkpoint \" + str(args.load_model))\n",
        "    state = model_utils.load_model(model, None, args.load_model, args.cuda)\n",
        "    print('Step', state['step'])\n",
        "\n",
        "    preds = predict_song(args, args.input, model)\n",
        "\n",
        "    output_folder = os.path.dirname(args.input) if args.output is None else args.output\n",
        "    for inst in preds.keys():\n",
        "        data.utils.write_wav(os.path.join(output_folder, os.path.basename(args.input) + \"_\" + inst + \".wav\"), preds[inst], args.sr)\n"
      ]
    },
    {
      "cell_type": "code",
      "execution_count": 14,
      "metadata": {
        "id": "pXbULWaVQlip",
        "outputId": "db1128d1-63cf-4cb3-e037-174e3ef828d3",
        "colab": {
          "base_uri": "https://localhost:8080/"
        }
      },
      "outputs": [
        {
          "output_type": "stream",
          "name": "stdout",
          "text": [
            "Using valid convolutions with 97961 inputs and 88409 outputs\n",
            "Loading model from checkpoint /content/drive/MyDrive/musdb18hq/pretrained_model_waveunet/model\n",
            "Step 132065\n"
          ]
        },
        {
          "output_type": "stream",
          "name": "stderr",
          "text": [
            "/usr/local/lib/python3.7/dist-packages/librosa/core/audio.py:165: UserWarning: PySoundFile failed. Trying audioread instead.\n",
            "  warnings.warn(\"PySoundFile failed. Trying audioread instead.\")\n"
          ]
        }
      ],
      "source": [
        "if __name__ == '__main__':\n",
        "    args = Args()\n",
        "\n",
        "    model_path = \"/content/drive/MyDrive/musdb18hq/pretrained_model_waveunet/model\"\n",
        "\n",
        "    # args.set_cuda(True)\n",
        "    args.set_model_path(model_path)\n",
        "    args.set_input_path(\"./audio_examples/Cristina Vane - So Easy/mix.mp3\")\n",
        "    # args.set_output_path(\"./output\")\n",
        "\n",
        "    main(args)\n"
      ]
    }
  ],
  "metadata": {
    "interpreter": {
      "hash": "af945134d42f4433d8de74da0ff4957f3128d06060755e7b74e9960330a31988"
    },
    "kernelspec": {
      "display_name": "py36",
      "language": "python",
      "name": "python3"
    },
    "language_info": {
      "codemirror_mode": {
        "name": "ipython",
        "version": 3
      },
      "file_extension": ".py",
      "mimetype": "text/x-python",
      "name": "python",
      "nbconvert_exporter": "python",
      "pygments_lexer": "ipython3",
      "version": "3.6.13"
    },
    "colab": {
      "name": "predict.ipynb",
      "provenance": []
    }
  },
  "nbformat": 4,
  "nbformat_minor": 0
}