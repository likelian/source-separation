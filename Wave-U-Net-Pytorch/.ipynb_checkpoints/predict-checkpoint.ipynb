{
 "cells": [
  {
   "cell_type": "markdown",
   "metadata": {},
   "source": [
    "[![Open In Colab](https://colab.research.google.com/assets/colab-badge.svg)](https://colab.research.google.com/github/likelian/source-separation/blob/main/Wave-U-Net-Pytorch/predict.ipynb)"
   ]
  },
  {
   "cell_type": "code",
   "execution_count": 2,
   "metadata": {},
   "outputs": [
    {
     "ename": "ModuleNotFoundError",
     "evalue": "No module named 'torch'",
     "output_type": "error",
     "traceback": [
      "\u001b[0;31m---------------------------------------------------------------------------\u001b[0m",
      "\u001b[0;31mModuleNotFoundError\u001b[0m                       Traceback (most recent call last)",
      "\u001b[0;32m/tmp/ipykernel_31691/4098099767.py\u001b[0m in \u001b[0;36m<module>\u001b[0;34m\u001b[0m\n\u001b[1;32m      1\u001b[0m \u001b[0;32mimport\u001b[0m \u001b[0margparse\u001b[0m\u001b[0;34m\u001b[0m\u001b[0;34m\u001b[0m\u001b[0m\n\u001b[1;32m      2\u001b[0m \u001b[0;32mimport\u001b[0m \u001b[0mos\u001b[0m\u001b[0;34m\u001b[0m\u001b[0;34m\u001b[0m\u001b[0m\n\u001b[0;32m----> 3\u001b[0;31m \u001b[0;32mimport\u001b[0m \u001b[0mtorch\u001b[0m\u001b[0;34m\u001b[0m\u001b[0;34m\u001b[0m\u001b[0m\n\u001b[0m\u001b[1;32m      4\u001b[0m \u001b[0;34m\u001b[0m\u001b[0m\n\u001b[1;32m      5\u001b[0m \u001b[0;32mimport\u001b[0m \u001b[0mdata\u001b[0m\u001b[0;34m.\u001b[0m\u001b[0mutils\u001b[0m\u001b[0;34m\u001b[0m\u001b[0;34m\u001b[0m\u001b[0m\n",
      "\u001b[0;31mModuleNotFoundError\u001b[0m: No module named 'torch'"
     ]
    }
   ],
   "source": [
    "import argparse\n",
    "import os\n",
    "\n",
    "import data.utils\n",
    "import model.utils as model_utils\n",
    "\n",
    "from test import predict_song\n",
    "from model.waveunet import Waveunet"
   ]
  },
  {
   "cell_type": "code",
   "execution_count": null,
   "metadata": {},
   "outputs": [],
   "source": [
    "class Args:\n",
    "    def __init__(self):\n",
    "        self.instruments = [\"bass\", \"drums\", \"other\", \"vocals\"]\n",
    "        self.cuda = False\n",
    "        self.features = 32\n",
    "        self.load_model = \"checkpoints/waveunet/model\"\n",
    "        self.batch_size = 4\n",
    "        self.levels = 6\n",
    "        self.depth = 1\n",
    "        self.sr = 44100\n",
    "        self.channels = 2\n",
    "        self.kernel_size = 5\n",
    "        self.output_size = 2.0\n",
    "        self.strides = 4\n",
    "        self.conv_type = \"gn\"\n",
    "        self.res = \"fixed\"\n",
    "        self.separate = 1\n",
    "        self.feature_growth = \"double\"\n",
    "        self.input = os.path.join(\"audio_examples\", \"Cristina Vane - So Easy\", \"mix.mp3\")\n",
    "        self.output = None\n",
    "        \n",
    "    def set_cuda(self, cuda_cond):\n",
    "        self.cuda = cuda_cond\n",
    "    \n",
    "    def set_model_path(self, model_path):\n",
    "        self.load_model = model_path\n",
    "    \n",
    "    def set_input_path(self, input_path):\n",
    "        self.input = input_path\n",
    "\n",
    "    def set_output_path(self, output_path):\n",
    "        self.output = output_path\n"
   ]
  },
  {
   "cell_type": "code",
   "execution_count": null,
   "metadata": {},
   "outputs": [],
   "source": [
    "def main(args):\n",
    "    # MODEL\n",
    "    num_features = [args.features*i for i in range(1, args.levels+1)] if args.feature_growth == \"add\" else \\\n",
    "                   [args.features*2**i for i in range(0, args.levels)]\n",
    "    target_outputs = int(args.output_size * args.sr)\n",
    "    model = Waveunet(args.channels, num_features, args.channels, args.instruments, kernel_size=args.kernel_size,\n",
    "                     target_output_size=target_outputs, depth=args.depth, strides=args.strides,\n",
    "                     conv_type=args.conv_type, res=args.res, separate=args.separate)\n",
    "\n",
    "    if args.cuda:\n",
    "        model = model_utils.DataParallel(model)\n",
    "        print(\"move model to gpu\")\n",
    "        model.cuda()\n",
    "\n",
    "    print(\"Loading model from checkpoint \" + str(args.load_model))\n",
    "    state = model_utils.load_model(model, None, args.load_model, args.cuda)\n",
    "    print('Step', state['step'])\n",
    "\n",
    "    preds = predict_song(args, args.input, model)\n",
    "\n",
    "    output_folder = os.path.dirname(args.input) if args.output is None else args.output\n",
    "    for inst in preds.keys():\n",
    "        data.utils.write_wav(os.path.join(output_folder, os.path.basename(args.input) + \"_\" + inst + \".wav\"), preds[inst], args.sr)\n"
   ]
  },
  {
   "cell_type": "code",
   "execution_count": null,
   "metadata": {},
   "outputs": [],
   "source": [
    "if __name__ == '__main__':\n",
    "    args = Args()\n",
    "\n",
    "    args.set_cuda(True)\n",
    "    args.set_model_path(\"../../external_repo/Wave-U-Net-Pytorch/pretrained/models/waveunet/model\")\n",
    "    args.set_input_path(\"./audio_examples/mix.mp3\")\n",
    "    args.set_output_path(\"./output\")\n",
    "\n",
    "    main(args)\n"
   ]
  }
 ],
 "metadata": {
  "interpreter": {
   "hash": "af945134d42f4433d8de74da0ff4957f3128d06060755e7b74e9960330a31988"
  },
  "kernelspec": {
   "display_name": "Python 3 (ipykernel)",
   "language": "python",
   "name": "python3"
  },
  "language_info": {
   "codemirror_mode": {
    "name": "ipython",
    "version": 3
   },
   "file_extension": ".py",
   "mimetype": "text/x-python",
   "name": "python",
   "nbconvert_exporter": "python",
   "pygments_lexer": "ipython3",
   "version": "3.7.9"
  }
 },
 "nbformat": 4,
 "nbformat_minor": 2
}
